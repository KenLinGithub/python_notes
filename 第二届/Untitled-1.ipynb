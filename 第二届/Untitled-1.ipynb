{
 "cells": [
  {
   "cell_type": "code",
   "execution_count": 10,
   "metadata": {},
   "outputs": [
    {
     "ename": "SyntaxError",
     "evalue": "(unicode error) 'unicodeescape' codec can't decode bytes in position 2-3: truncated \\UXXXXXXXX escape (446464039.py, line 6)",
     "output_type": "error",
     "traceback": [
      "\u001b[1;36m  Cell \u001b[1;32mIn[10], line 6\u001b[1;36m\u001b[0m\n\u001b[1;33m    df = pandas.read_excel('C:\\Users\\KenLin\\Desktop\\第二届\\desc.xlsx')\u001b[0m\n\u001b[1;37m                                                                  ^\u001b[0m\n\u001b[1;31mSyntaxError\u001b[0m\u001b[1;31m:\u001b[0m (unicode error) 'unicodeescape' codec can't decode bytes in position 2-3: truncated \\UXXXXXXXX escape\n"
     ]
    }
   ],
   "source": [
    "#coding=utf8\n",
    "import pandas\n",
    "import os\n",
    "\n",
    "\n",
    "df = pandas.read_excel('C:\\Users\\KenLin\\Desktop\\第二届\\desc.xlsx')\n",
    "df['year'] = df['time'].str[:4]\n",
    "df = df.groupby('year').agg({'car': 'sum', 'motor': 'sum'})\n",
    "df = df.reset_index()\n",
    "df.columns = ['Year', 'Car', 'Motor']\n",
    "df = df.set_index('Year')\n",
    "df.to_excel('macao-vehicles-by-year.xlsx')\n",
    "\n",
    "fig = df.plot.bar()"
   ]
  }
 ],
 "metadata": {
  "kernelspec": {
   "display_name": "Python 3",
   "language": "python",
   "name": "python3"
  },
  "language_info": {
   "codemirror_mode": {
    "name": "ipython",
    "version": 3
   },
   "file_extension": ".py",
   "mimetype": "text/x-python",
   "name": "python",
   "nbconvert_exporter": "python",
   "pygments_lexer": "ipython3",
   "version": "3.9.13"
  }
 },
 "nbformat": 4,
 "nbformat_minor": 2
}
